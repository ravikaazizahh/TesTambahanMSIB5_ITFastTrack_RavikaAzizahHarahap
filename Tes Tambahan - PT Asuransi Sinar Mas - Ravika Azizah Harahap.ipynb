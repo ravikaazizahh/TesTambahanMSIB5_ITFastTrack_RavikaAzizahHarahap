{
 "cells": [
  {
   "cell_type": "markdown",
   "id": "2cb9723d",
   "metadata": {},
   "source": [
    "### Nomor 1"
   ]
  },
  {
   "cell_type": "raw",
   "id": "9024d615",
   "metadata": {},
   "source": [
    "1a) diberikan suatu jumlah detik dan programmer diminta untuk mengkonversikan suatu jumlah detik \n",
    "ke dalam jam, menit dan detik yang bersesuaian. \n",
    "masukkan jumlah detik 3665"
   ]
  },
  {
   "cell_type": "code",
   "execution_count": 1,
   "id": "3c11b219",
   "metadata": {},
   "outputs": [
    {
     "name": "stdout",
     "output_type": "stream",
     "text": [
      "Masukkan jumlah detik: 3665\n",
      "Jumlah jam  : 1\n",
      "Jumlah menit: 1\n",
      "Jumlah detik: 5\n"
     ]
    }
   ],
   "source": [
    "def konversi_detik_ke_waktu(detik):\n",
    "    jam = detik // 3600\n",
    "    sisa_detik = detik % 3600\n",
    "    menit = sisa_detik // 60\n",
    "    detik = sisa_detik % 60\n",
    "    return jam, menit, detik\n",
    "\n",
    "jumlah_detik = int(input(\"Masukkan jumlah detik: \"))\n",
    "jam, menit, detik = konversi_detik_ke_waktu(jumlah_detik)\n",
    "\n",
    "print(\"Jumlah jam  :\", jam)\n",
    "print(\"Jumlah menit:\", menit)\n",
    "print(\"Jumlah detik:\", detik)"
   ]
  },
  {
   "cell_type": "raw",
   "id": "5d140096",
   "metadata": {},
   "source": [
    "1b) diberikan suatu jumlah detik dan programmer diminta untuk mengkonversikan suatu jumlah detik \n",
    "ke dalam jam, menit dan detik yang bersesuaian\n",
    "- masukkan jumlah jam : 1\n",
    "- masukkan jumlah menit : 1\n",
    "- masukkan jumlah detik : 7"
   ]
  },
  {
   "cell_type": "code",
   "execution_count": 2,
   "id": "5a7b4c31",
   "metadata": {},
   "outputs": [
    {
     "name": "stdout",
     "output_type": "stream",
     "text": [
      "Masukkan jumlah jam: 1\n",
      "Masukkan jumlah menit: 1\n",
      "Masukkan jumlah detik: 7\n",
      "Jumlah detik dari masukkan di atas adalah 3667\n"
     ]
    }
   ],
   "source": [
    "def konversi_waktu_ke_detik(jam, menit, detik):\n",
    "    jumlah_detik = (jam * 3600) + (menit * 60) + detik\n",
    "    return jumlah_detik\n",
    "\n",
    "jam = int(input(\"Masukkan jumlah jam: \"))\n",
    "menit = int(input(\"Masukkan jumlah menit: \"))\n",
    "detik = int(input(\"Masukkan jumlah detik: \"))\n",
    "\n",
    "jumlah_detik = konversi_waktu_ke_detik(jam, menit, detik)\n",
    "print(\"Jumlah detik dari masukkan di atas adalah\", jumlah_detik)"
   ]
  },
  {
   "cell_type": "markdown",
   "id": "6dd3c1f9",
   "metadata": {},
   "source": [
    "### Nomor 2"
   ]
  },
  {
   "cell_type": "raw",
   "id": "9c6e70ec",
   "metadata": {},
   "source": [
    "2) Buatlah suatu program untuk menghitung suatu nilai faktorial dengan cara rekursif!\n",
    "- masukkan nilai faktorial : 5"
   ]
  },
  {
   "cell_type": "code",
   "execution_count": 3,
   "id": "8a8b8b3a",
   "metadata": {},
   "outputs": [
    {
     "name": "stdout",
     "output_type": "stream",
     "text": [
      "Masukkan nilai faktorial: 5\n",
      "Nilai faktorial dari 5 adalah 120\n"
     ]
    }
   ],
   "source": [
    "def faktorial(n):\n",
    "    if n == 0:\n",
    "        return 1\n",
    "    else:\n",
    "        return n * faktorial(n - 1)\n",
    "\n",
    "nilai = int(input(\"Masukkan nilai faktorial: \"))\n",
    "hasil = faktorial(nilai)\n",
    "\n",
    "print(\"Nilai faktorial dari\", nilai, \"adalah\", hasil)"
   ]
  },
  {
   "cell_type": "markdown",
   "id": "9a7af730",
   "metadata": {},
   "source": [
    "### Nomor 3"
   ]
  },
  {
   "cell_type": "raw",
   "id": "3655836f",
   "metadata": {},
   "source": [
    "Buatlah suatu program untuk menentukan apakah tahun yang diinput adalah tahun kabisat atau bukan\n",
    "- masukkan tahun : 2000"
   ]
  },
  {
   "cell_type": "code",
   "execution_count": 4,
   "id": "8a685923",
   "metadata": {},
   "outputs": [
    {
     "name": "stdout",
     "output_type": "stream",
     "text": [
      "Masukkan tahun: 2000\n",
      "Tahun 2000 merupakan tahun kabisat\n"
     ]
    }
   ],
   "source": [
    "def cek_tahun_kabisat(tahun):\n",
    "    if tahun % 4 == 0:\n",
    "        if tahun % 100 == 0:\n",
    "            if tahun % 400 == 0:\n",
    "                return True\n",
    "            else:\n",
    "                return False\n",
    "        else:\n",
    "            return True\n",
    "    else:\n",
    "        return False\n",
    "\n",
    "tahun = int(input(\"Masukkan tahun: \"))\n",
    "\n",
    "if cek_tahun_kabisat(tahun):\n",
    "    print(\"Tahun\", tahun, \"merupakan tahun kabisat\")\n",
    "else:\n",
    "    print(\"Tahun\", tahun, \"bukan tahun kabisat\")"
   ]
  },
  {
   "cell_type": "markdown",
   "id": "3e75eb32",
   "metadata": {},
   "source": [
    "### Nomor 4"
   ]
  },
  {
   "cell_type": "raw",
   "id": "9c8f6447",
   "metadata": {},
   "source": [
    "4a) Buat program untuk mengecek apakah suatu kata dalah palindrome \n",
    "masukkan kata : katak"
   ]
  },
  {
   "cell_type": "code",
   "execution_count": 8,
   "id": "0481144c",
   "metadata": {},
   "outputs": [
    {
     "name": "stdout",
     "output_type": "stream",
     "text": [
      "Masukkan kata: katak\n",
      "Kata ' katak ' merupakan palindrome\n"
     ]
    }
   ],
   "source": [
    "def cek_palindrome(kata):\n",
    "    kata = kata.lower()  # Mengubah kata menjadi huruf kecil agar tidak terpengaruh oleh huruf kapital\n",
    "    panjang_kata = len(kata)\n",
    "\n",
    "    for i in range(panjang_kata // 2):\n",
    "        if kata[i] != kata[panjang_kata - 1 - i]:\n",
    "            return False\n",
    "\n",
    "    return True\n",
    "\n",
    "kata = input(\"Masukkan kata: \")\n",
    "\n",
    "if cek_palindrome(kata):\n",
    "    print(\"Kata '\", kata, \"' merupakan palindrome\")\n",
    "else:\n",
    "    print(\"Kata '\", kata, \"' bukan merupakan palindrome\")"
   ]
  },
  {
   "cell_type": "raw",
   "id": "cf6bdd14",
   "metadata": {},
   "source": [
    "4b) Buat program untuk mengecek apakah suatu kata dalah palindrome\n",
    "- masukkan kata : contoh"
   ]
  },
  {
   "cell_type": "code",
   "execution_count": 9,
   "id": "8fccb7f3",
   "metadata": {},
   "outputs": [
    {
     "name": "stdout",
     "output_type": "stream",
     "text": [
      "Masukkan kata: contoh \n",
      "Kata ' contoh  ' bukan merupakan palindrome\n"
     ]
    }
   ],
   "source": [
    "def cek_palindrome(kata):\n",
    "    kata = kata.lower()  # Mengubah kata menjadi huruf kecil agar tidak terpengaruh oleh huruf kapital\n",
    "    panjang_kata = len(kata)\n",
    "\n",
    "    for i in range(panjang_kata // 2):\n",
    "        if kata[i] != kata[panjang_kata - 1 - i]:\n",
    "            return False\n",
    "\n",
    "    return True\n",
    "\n",
    "kata = input(\"Masukkan kata: \")\n",
    "\n",
    "if cek_palindrome(kata):\n",
    "    print(\"Kata '\", kata, \"' merupakan palindrome\")\n",
    "else:\n",
    "    print(\"Kata '\", kata, \"' bukan merupakan palindrome\")"
   ]
  },
  {
   "cell_type": "markdown",
   "id": "c2b52bea",
   "metadata": {},
   "source": [
    "### Nomor 5"
   ]
  },
  {
   "cell_type": "raw",
   "id": "90d23561",
   "metadata": {},
   "source": [
    "5) Buatlah program untuk mengecek huruf yang terpakai dan jumlahnya dari suatu kalimat. Huruf yang terpakai ditampilkan secara berurutan\n",
    "- masukkan kalimat : dua ratus lima puluh tujuh"
   ]
  },
  {
   "cell_type": "code",
   "execution_count": 10,
   "id": "adcf1c84",
   "metadata": {},
   "outputs": [
    {
     "name": "stdout",
     "output_type": "stream",
     "text": [
      "Masukkan kalimat: dua ratus lima puluh tujuh\n",
      "Huruf\t\t\tJumlah\n",
      "d \t\t\t 1\n",
      "u \t\t\t 6\n",
      "a \t\t\t 3\n",
      "r \t\t\t 1\n",
      "t \t\t\t 2\n",
      "s \t\t\t 1\n",
      "l \t\t\t 2\n",
      "i \t\t\t 1\n",
      "m \t\t\t 1\n",
      "p \t\t\t 1\n",
      "h \t\t\t 2\n",
      "j \t\t\t 1\n",
      "Jumlah huruf yang terpakai\t 12\n"
     ]
    }
   ],
   "source": [
    "def hitung_huruf(kalimat):\n",
    "    kalimat = kalimat.lower()\n",
    "    huruf_terpakai = []\n",
    "    jumlah_huruf = {}\n",
    "\n",
    "    for huruf in kalimat:\n",
    "        if huruf.isalpha() and huruf not in huruf_terpakai:\n",
    "            huruf_terpakai.append(huruf)\n",
    "            jumlah_huruf[huruf] = kalimat.count(huruf)\n",
    "\n",
    "    return huruf_terpakai, jumlah_huruf\n",
    "\n",
    "kalimat = input(\"Masukkan kalimat: \")\n",
    "\n",
    "huruf_terpakai, jumlah_huruf = hitung_huruf(kalimat)\n",
    "\n",
    "print(\"Huruf\\t\\t\\tJumlah\")\n",
    "for huruf in huruf_terpakai:\n",
    "    print(huruf, \"\\t\\t\\t\", jumlah_huruf[huruf])\n",
    "\n",
    "print(\"Jumlah huruf yang terpakai\\t\", len(huruf_terpakai))"
   ]
  },
  {
   "cell_type": "markdown",
   "id": "87394976",
   "metadata": {},
   "source": [
    "### Nomor 6"
   ]
  },
  {
   "cell_type": "raw",
   "id": "2ccdb444",
   "metadata": {},
   "source": [
    " 6) Buatlah program untuk menghasilkan bilangan segitiga paskal sesuai dengan kedalaman level yang diinginkan.\n",
    "- masukkan kedalaman level : 3"
   ]
  },
  {
   "cell_type": "code",
   "execution_count": 13,
   "id": "8011840b",
   "metadata": {},
   "outputs": [
    {
     "name": "stdout",
     "output_type": "stream",
     "text": [
      "Masukkan kedalaman level: 3\n",
      "\t\t1\t\t\n",
      "\t1\t\t1\t\t\n",
      "1\t\t2\t\t1\t\t\n"
     ]
    }
   ],
   "source": [
    "def generate_pascal_triangle(level):\n",
    "    triangle = []\n",
    "\n",
    "    for i in range(level):\n",
    "        row = []\n",
    "        for j in range(i + 1):\n",
    "            if j == 0 or j == i:\n",
    "                row.append(1)\n",
    "            else:\n",
    "                row.append(triangle[i - 1][j - 1] + triangle[i - 1][j])\n",
    "        triangle.append(row)\n",
    "\n",
    "    return triangle\n",
    "\n",
    "level = int(input(\"Masukkan kedalaman level: \"))\n",
    "\n",
    "pascal_triangle = generate_pascal_triangle(level)\n",
    "\n",
    "# Menampilkan bilangan segitiga paskal\n",
    "for row in pascal_triangle:\n",
    "    print(\"\\t\" * (level - len(row)), end=\"\")\n",
    "    for num in row:\n",
    "        print(num, end=\"\\t\\t\")\n",
    "    print()"
   ]
  },
  {
   "cell_type": "markdown",
   "id": "cc623c01",
   "metadata": {},
   "source": [
    "### Nomor 7"
   ]
  },
  {
   "cell_type": "raw",
   "id": "e39b0ff9",
   "metadata": {},
   "source": [
    "7) Buatlah program untuk menghilangkan tanda baca pada kalimat yang dimasukkan\n",
    "\n",
    "- masukkan kalimat : A' punya member B' punya member C'. Jika C' menjual produk sebesar $ 1,000,000 maka C' akan mendapatkan bonus $ 50,000. B' akan mendapatkan bonus $30,000, dan A' akan mendapatkan bonus $20,000\n"
   ]
  },
  {
   "cell_type": "code",
   "execution_count": 17,
   "id": "088833d7",
   "metadata": {},
   "outputs": [
    {
     "name": "stdout",
     "output_type": "stream",
     "text": [
      "Masukkan kalimat: A' punya member B' punya member C'. Jika C' menjual produk sebesar $ 1,000,000 maka C' akan mendapatkan bonus $ 50,000. B' akan mendapatkan bonus $30,000, dan A' akan mendapatkan bonus $20,000\n",
      "A punya member B punya member C Jika C menjual produk sebesar  1000000 maka C akan mendapatkan bonus  50000 B akan mendapatkan bonus 30000 dan A akan mendapatkan bonus 20000\n"
     ]
    }
   ],
   "source": [
    "import string\n",
    "\n",
    "def hilangkan_tanda_baca(kalimat):\n",
    "    tanda_baca = string.punctuation\n",
    "    kalimat_tanpa_tanda_baca = \"\".join(char for char in kalimat if char not in tanda_baca)\n",
    "    return kalimat_tanpa_tanda_baca\n",
    "\n",
    "kalimat = input(\"Masukkan kalimat: \")\n",
    "\n",
    "kalimat_tanpa_tanda_baca = hilangkan_tanda_baca(kalimat)\n",
    "\n",
    "print(kalimat_tanpa_tanda_baca)"
   ]
  },
  {
   "cell_type": "code",
   "execution_count": null,
   "id": "2ce0373b",
   "metadata": {},
   "outputs": [],
   "source": []
  }
 ],
 "metadata": {
  "kernelspec": {
   "display_name": "Python 3",
   "language": "python",
   "name": "python3"
  },
  "language_info": {
   "codemirror_mode": {
    "name": "ipython",
    "version": 3
   },
   "file_extension": ".py",
   "mimetype": "text/x-python",
   "name": "python",
   "nbconvert_exporter": "python",
   "pygments_lexer": "ipython3",
   "version": "3.8.8"
  }
 },
 "nbformat": 4,
 "nbformat_minor": 5
}
